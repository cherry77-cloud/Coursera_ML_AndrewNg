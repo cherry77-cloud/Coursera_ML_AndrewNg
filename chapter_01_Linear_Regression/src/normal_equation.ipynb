{
 "cells": [
  {
   "cell_type": "code",
   "execution_count": 1,
   "id": "b9337818-8d0a-402d-8793-0eb76ad708d2",
   "metadata": {},
   "outputs": [],
   "source": [
    "import numpy as np\n",
    "import pandas as pd"
   ]
  },
  {
   "cell_type": "markdown",
   "id": "e219d6d4-024d-427d-a487-07095df16bf4",
   "metadata": {},
   "source": [
    "### normal_equation"
   ]
  },
  {
   "cell_type": "code",
   "execution_count": 2,
   "id": "c52b70f8-1617-4648-8b95-168f76e999da",
   "metadata": {},
   "outputs": [],
   "source": [
    "def normal_equation(X, y):\n",
    "    theta = np.dot(np.linalg.pinv(np.dot(X.transpose(), X)), np.dot(X.transpose(), y))\n",
    "    return theta\n",
    "\n",
    "def mse_loss(theta, X, y):\n",
    "    theta = theta.reshape(-1, 1)\n",
    "    predictions = np.dot(X, theta)\n",
    "    errors = predictions - y\n",
    "    return np.mean(errors ** 2) / 2\n",
    "\n",
    "def add_bias(X):\n",
    "    bias = np.ones((X.shape[0], 1))\n",
    "    return np.hstack((X, bias))"
   ]
  },
  {
   "cell_type": "markdown",
   "id": "ee643d64-da14-4dfe-85af-c191320e929b",
   "metadata": {},
   "source": [
    "### homework_ex1_01"
   ]
  },
  {
   "cell_type": "code",
   "execution_count": 3,
   "id": "7b408f69-4949-47e9-bcca-138328e1b8b9",
   "metadata": {},
   "outputs": [
    {
     "name": "stdout",
     "output_type": "stream",
     "text": [
      "最终的 theta 值: [[ 1.19303364]\n",
      " [-3.89578088]]\n",
      "最终 MSE 损失: 4.476971375975179\n"
     ]
    }
   ],
   "source": [
    "data1 = pd.read_csv(\"../data/ex1data1.txt\", names=[\"population\", \"profit\"])\n",
    "X1 = np.array(data1['population']).reshape(97, 1)\n",
    "y1 = np.array(data1['profit']).reshape(97, 1)\n",
    "X1_with_bias = add_bias(X1)\n",
    "\n",
    "normal_theta = normal_equation(X1_with_bias, y1)\n",
    "print(f\"最终的 theta 值: {normal_theta}\")\n",
    "\n",
    "final_mse_loss = mse_loss(normal_theta, X1_with_bias, y1)\n",
    "print(f\"最终 MSE 损失: {final_mse_loss}\")"
   ]
  },
  {
   "cell_type": "markdown",
   "id": "21790c79-40a5-4308-89b5-79b7a93a612d",
   "metadata": {},
   "source": [
    "### homework_ex1_02"
   ]
  },
  {
   "cell_type": "code",
   "execution_count": 4,
   "id": "dad5dada-e703-49d9-9554-86b2a06251f1",
   "metadata": {},
   "outputs": [],
   "source": [
    "data2 = pd.read_csv('../data/ex1data2.txt', names=['size', 'bedroom', 'price'])\n",
    "data2 = (data2 - data2.mean()) / data2.std()\n",
    "\n",
    "X2 = np.array(data2.iloc[:, 0:-1])\n",
    "y2 = np.array(data2.iloc[:, -1]).reshape((-1, 1))"
   ]
  },
  {
   "cell_type": "code",
   "execution_count": 5,
   "id": "db63dc45-79ba-44cf-b56e-fcee32c6c8f9",
   "metadata": {},
   "outputs": [
    {
     "name": "stdout",
     "output_type": "stream",
     "text": [
      "最终的 theta 值: [[ 8.84765988e-01]\n",
      " [-5.31788197e-02]\n",
      " [-9.71062601e-17]]\n",
      "最终 MSE 损失: 0.13068648053904192\n"
     ]
    }
   ],
   "source": [
    "X2_with_bias = add_bias(X2)\n",
    "\n",
    "normal_theta = normal_equation(X2_with_bias, y2)\n",
    "print(f\"最终的 theta 值: {normal_theta}\")\n",
    "\n",
    "final_mse_loss = mse_loss(normal_theta, X2_with_bias, y2)\n",
    "print(f\"最终 MSE 损失: {final_mse_loss}\")"
   ]
  }
 ],
 "metadata": {
  "kernelspec": {
   "display_name": "llama_factory",
   "language": "python",
   "name": "llama_factory"
  },
  "language_info": {
   "codemirror_mode": {
    "name": "ipython",
    "version": 3
   },
   "file_extension": ".py",
   "mimetype": "text/x-python",
   "name": "python",
   "nbconvert_exporter": "python",
   "pygments_lexer": "ipython3",
   "version": "3.10.14"
  }
 },
 "nbformat": 4,
 "nbformat_minor": 5
}
