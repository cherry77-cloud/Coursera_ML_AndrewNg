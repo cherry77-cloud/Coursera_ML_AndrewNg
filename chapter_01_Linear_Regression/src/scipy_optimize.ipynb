{
 "cells": [
  {
   "cell_type": "code",
   "execution_count": 1,
   "id": "faa6b8b5-e7b3-4e3e-ba31-4adf6ddf00d4",
   "metadata": {},
   "outputs": [],
   "source": [
    "from scipy.optimize import minimize\n",
    "import numpy as np\n",
    "import pandas as pd\n",
    "import matplotlib.pyplot as plt"
   ]
  },
  {
   "cell_type": "markdown",
   "id": "8c13254c-dfcd-4b5e-989f-78a0d01820d3",
   "metadata": {},
   "source": [
    "### scipy_optimize"
   ]
  },
  {
   "cell_type": "code",
   "execution_count": 2,
   "id": "71ed7776-c93c-427a-ad32-44260e9f0a8d",
   "metadata": {},
   "outputs": [],
   "source": [
    "def add_bias(X):\n",
    "    bias = np.ones((X.shape[0], 1))\n",
    "    return np.hstack((X, bias))\n",
    "\n",
    "def compute_gradient(theta, X, y):\n",
    "    theta = theta.reshape(-1, 1)\n",
    "    predictions = np.dot(X, theta)\n",
    "    gradient = np.dot(X.transpose(), (predictions - y)) / len(y)\n",
    "    return gradient.flatten()\n",
    "\n",
    "def linear_regression_cost_function(theta, X, y):\n",
    "    theta = theta.reshape(-1, 1)\n",
    "    predictions = np.dot(X, theta)\n",
    "    errors = predictions - y\n",
    "    return np.mean(errors ** 2) / 2\n",
    "\n",
    "def fit(X, y):\n",
    "    initial_theta = np.zeros(X.shape[1])\n",
    "    result = minimize(fun=linear_regression_cost_function,\n",
    "                    x0=initial_theta,\n",
    "                    args=(X, y),\n",
    "                    jac=compute_gradient,\n",
    "                    method='Newton-CG')\n",
    "    return result.x"
   ]
  },
  {
   "cell_type": "markdown",
   "id": "f8d07797-b4fe-4894-9a11-21b9a9f59d9f",
   "metadata": {},
   "source": [
    "### homework_ex1_01"
   ]
  },
  {
   "cell_type": "code",
   "execution_count": 3,
   "id": "f4be2e9c-ffae-4e74-a32f-ee44a13e7a1d",
   "metadata": {},
   "outputs": [],
   "source": [
    "data1 = pd.read_csv(\"../data/ex1data1.txt\", names=[\"population\", \"profit\"])\n",
    "X1 = np.array(data1['population']).reshape(97, 1)\n",
    "y1 = np.array(data1['profit']).reshape(97, 1)"
   ]
  },
  {
   "cell_type": "code",
   "execution_count": 4,
   "id": "667a2245-4874-41e1-9514-17f93a32e664",
   "metadata": {},
   "outputs": [],
   "source": [
    "X1_with_bias = add_bias(X1)\n",
    "initial_theta = np.zeros((2, 1))"
   ]
  },
  {
   "cell_type": "code",
   "execution_count": 5,
   "id": "3818cc40-fa9d-4efc-a715-3ca9e2ec12bc",
   "metadata": {},
   "outputs": [
    {
     "name": "stdout",
     "output_type": "stream",
     "text": [
      "初始 MSE 损失: 32.072733877455676\n",
      "最终的 theta 值: [ 1.19303365 -3.89578091]\n",
      "最终 MSE 损失: 4.476971375975178\n"
     ]
    }
   ],
   "source": [
    "init_mse_loss = linear_regression_cost_function(initial_theta, X1_with_bias, y1)\n",
    "print(f\"初始 MSE 损失: {init_mse_loss}\")\n",
    "\n",
    "optim_theta = fit(X1_with_bias, y1)\n",
    "print(f\"最终的 theta 值: {optim_theta}\")\n",
    "\n",
    "final_mse_loss = linear_regression_cost_function(optim_theta, X1_with_bias, y1)\n",
    "print(f\"最终 MSE 损失: {final_mse_loss}\")"
   ]
  },
  {
   "cell_type": "code",
   "execution_count": 6,
   "id": "a94d8d39-6853-4638-8f5b-e0ca92e220f0",
   "metadata": {},
   "outputs": [
    {
     "data": {
      "image/png": "[encoded data removed]",
      "text/plain": [
       "<Figure size 400x300 with 1 Axes>"
      ]
     },
     "metadata": {},
     "output_type": "display_data"
    }
   ],
   "source": [
    "slope = optim_theta[0]\n",
    "intercept = optim_theta[1]\n",
    "line_x = np.linspace(X1.min(), X1.max(), 100)\n",
    "line_y = slope * line_x + intercept\n",
    "\n",
    "plt.figure(figsize=(4, 3))\n",
    "plt.scatter(X1, y1, color='blue', s=10)\n",
    "plt.plot(line_x, line_y, color='red')\n",
    "plt.xlabel('feature')\n",
    "plt.ylabel('target')\n",
    "plt.title('Scatter Plot with Regression Line')\n",
    "plt.show()"
   ]
  },
  {
   "cell_type": "markdown",
   "id": "c16b56ec-17e2-42ba-b687-aa5ba556eb77",
   "metadata": {},
   "source": [
    "### homework_ex1_02"
   ]
  },
  {
   "cell_type": "code",
   "execution_count": 7,
   "id": "36faf7d6-65cf-4de3-88a2-ca5204e439ae",
   "metadata": {},
   "outputs": [],
   "source": [
    "data2 = pd.read_csv('../data/ex1data2.txt', names=['size', 'bedroom', 'price'])\n",
    "data2 = (data2 - data2.mean()) / data2.std()\n",
    "\n",
    "X2 = np.array(data2.iloc[:, 0:-1])\n",
    "y2 = np.array(data2.iloc[:, -1]).reshape((-1, 1))"
   ]
  },
  {
   "cell_type": "code",
   "execution_count": 8,
   "id": "06f394d3-0f1f-4f6e-a5e7-e9666fe2a0ae",
   "metadata": {},
   "outputs": [],
   "source": [
    "X2_with_bias = add_bias(X2)\n",
    "initial_theta = np.zeros((3, 1))"
   ]
  },
  {
   "cell_type": "code",
   "execution_count": 9,
   "id": "01c74cf8-c089-434f-9324-46ee5a983f9f",
   "metadata": {},
   "outputs": [
    {
     "name": "stdout",
     "output_type": "stream",
     "text": [
      "初始 MSE 损失: 0.4893617021276595\n",
      "最终的 theta 值: [ 8.84765986e-01 -5.31788220e-02  9.64343188e-10]\n",
      "最终 MSE 损失: 0.13068648053904197\n"
     ]
    }
   ],
   "source": [
    "init_mse_loss = linear_regression_cost_function(initial_theta, X2_with_bias, y2)\n",
    "print(f\"初始 MSE 损失: {init_mse_loss}\")\n",
    "\n",
    "optim_theta = fit(X2_with_bias, y2)\n",
    "print(f\"最终的 theta 值: {optim_theta}\")\n",
    "\n",
    "final_mse_loss = linear_regression_cost_function(optim_theta, X2_with_bias, y2)\n",
    "print(f\"最终 MSE 损失: {final_mse_loss}\")"
   ]
  }
 ],
 "metadata": {
  "kernelspec": {
   "display_name": "llama_factory",
   "language": "python",
   "name": "llama_factory"
  },
  "language_info": {
   "codemirror_mode": {
    "name": "ipython",
    "version": 3
   },
   "file_extension": ".py",
   "mimetype": "text/x-python",
   "name": "python",
   "nbconvert_exporter": "python",
   "pygments_lexer": "ipython3",
   "version": "3.10.14"
  }
 },
 "nbformat": 4,
 "nbformat_minor": 5
}
