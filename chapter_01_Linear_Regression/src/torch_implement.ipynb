{
 "cells": [
  {
   "cell_type": "code",
   "execution_count": 1,
   "id": "a49e885e-1740-4048-80c5-fe2f86696325",
   "metadata": {},
   "outputs": [],
   "source": [
    "import torch\n",
    "import random\n",
    "import numpy as np\n",
    "import pandas as pd\n",
    "import matplotlib.pyplot as plt"
   ]
  },
  {
   "cell_type": "markdown",
   "id": "97f09b33-485a-438b-9fb5-3a952b3fdfd4",
   "metadata": {},
   "source": [
    "### torch"
   ]
  },
  {
   "cell_type": "code",
   "execution_count": 2,
   "id": "3bb5242e-864b-4f4b-99cc-41f8783501c1",
   "metadata": {},
   "outputs": [],
   "source": [
    "class LinearRegression:\n",
    "    def __init__(self, num_inputs, lr=0.001, batch_size=10, num_epochs=2000):\n",
    "        self.w = torch.zeros((num_inputs, 1), requires_grad=True)\n",
    "        self.b = torch.zeros(1, requires_grad=True)\n",
    "        self.lr = lr\n",
    "        self.batch_size = batch_size\n",
    "        self.num_epochs = num_epochs\n",
    "        self.params = [self.w, self.b]\n",
    "\n",
    "    def net(self, X):\n",
    "        \"\"\"线性回归模型\"\"\"\n",
    "        return torch.matmul(X, self.w) + self.b\n",
    "\n",
    "    def squared_loss(self, y_hat, y):\n",
    "        \"\"\"均方损失\"\"\"\n",
    "        return (y_hat - y.reshape(y_hat.shape)) ** 2 / 2\n",
    "\n",
    "    def sgd(self):\n",
    "        \"\"\"小批量随机梯度下降\"\"\"\n",
    "        with torch.no_grad():\n",
    "            for param in self.params:\n",
    "                param -= self.lr * param.grad / self.batch_size\n",
    "                param.grad.zero_()\n",
    "\n",
    "    def fit(self, features, labels):\n",
    "        \"\"\"训练模型\"\"\"\n",
    "        for epoch in range(self.num_epochs):\n",
    "            for X, y in self.data_iter(self.batch_size, features, labels):\n",
    "                l = self.squared_loss(self.net(X), y)\n",
    "                l.sum().backward()\n",
    "                self.sgd()\n",
    "            with torch.no_grad():\n",
    "                train_l = self.squared_loss(self.net(features), labels)\n",
    "                if (epoch + 1) % 400 == 0:\n",
    "                    print(f'epoch {epoch + 1}, loss {float(train_l.mean()):f}')\n",
    "\n",
    "    @staticmethod\n",
    "    def data_iter(batch_size, features, labels):\n",
    "        \"\"\"数据迭代器\"\"\"\n",
    "        num_examples = len(features)\n",
    "        indices = list(range(num_examples))\n",
    "        random.shuffle(indices)\n",
    "        for i in range(0, num_examples, batch_size):\n",
    "            batch_indices = torch.tensor(\n",
    "                indices[i: min(i + batch_size, num_examples)])\n",
    "            yield features[batch_indices], labels[batch_indices]"
   ]
  },
  {
   "cell_type": "markdown",
   "id": "b4de5acb-5f44-46f3-b70b-8c5880cbad17",
   "metadata": {},
   "source": [
    "### homework_ex1_01"
   ]
  },
  {
   "cell_type": "code",
   "execution_count": 3,
   "id": "f86c44fb-b35f-466b-b051-a56093318628",
   "metadata": {},
   "outputs": [],
   "source": [
    "data1 = pd.read_csv(\"../data/ex1data1.txt\", names=[\"population\", \"profit\"])\n",
    "X1 = np.array(data1['population']).reshape(97, 1)\n",
    "y1 = np.array(data1['profit']).reshape(97, 1)"
   ]
  },
  {
   "cell_type": "code",
   "execution_count": 4,
   "id": "e68d1804-24f5-461b-8a1d-af55a01650ef",
   "metadata": {},
   "outputs": [
    {
     "name": "stdout",
     "output_type": "stream",
     "text": [
      "epoch 400, loss 4.829054\n",
      "epoch 800, loss 4.563023\n",
      "epoch 1200, loss 4.498506\n",
      "epoch 1600, loss 4.482086\n",
      "epoch 2000, loss 4.478239\n",
      "loss 4.478239\n"
     ]
    }
   ],
   "source": [
    "features = torch.tensor(X1, dtype=torch.float32)\n",
    "labels = torch.tensor(y1, dtype=torch.float32)\n",
    "\n",
    "model = LinearRegression(num_inputs=features.shape[1])\n",
    "model.fit(features, labels)\n",
    "\n",
    "with torch.no_grad():\n",
    "    train_l = model.squared_loss(model.net(features), labels)\n",
    "    print(f'loss {float(train_l.mean()):f}')"
   ]
  },
  {
   "cell_type": "markdown",
   "id": "2905e096-cf23-4f39-affa-93499c60ee1a",
   "metadata": {},
   "source": [
    "### homework_ex1_02"
   ]
  },
  {
   "cell_type": "code",
   "execution_count": 5,
   "id": "874dc7d1-6cd7-4e27-9eb2-a5a9e4657990",
   "metadata": {},
   "outputs": [],
   "source": [
    "data2 = pd.read_csv('../data/ex1data2.txt', names=['size', 'bedroom', 'price'])\n",
    "data2 = (data2 - data2.mean()) / data2.std()\n",
    "\n",
    "X2 = np.array(data2.iloc[:, 0:-1])\n",
    "y2 = np.array(data2.iloc[:, -1]).reshape((-1, 1))"
   ]
  },
  {
   "cell_type": "code",
   "execution_count": 6,
   "id": "87218fd3-6ad1-4358-b216-750c81c84221",
   "metadata": {},
   "outputs": [
    {
     "name": "stdout",
     "output_type": "stream",
     "text": [
      "epoch 400, loss 0.150276\n",
      "epoch 800, loss 0.134400\n",
      "epoch 1200, loss 0.131421\n",
      "epoch 1600, loss 0.130832\n",
      "epoch 2000, loss 0.130715\n",
      "loss 0.130715\n"
     ]
    }
   ],
   "source": [
    "features = torch.tensor(X2, dtype=torch.float32)\n",
    "labels = torch.tensor(y2, dtype=torch.float32)\n",
    "\n",
    "model = LinearRegression(num_inputs=features.shape[1])\n",
    "model.fit(features, labels)\n",
    "\n",
    "with torch.no_grad():\n",
    "    train_l = model.squared_loss(model.net(features), labels)\n",
    "    print(f'loss {float(train_l.mean()):f}')"
   ]
  }
 ],
 "metadata": {
  "kernelspec": {
   "display_name": "llama_factory",
   "language": "python",
   "name": "llama_factory"
  },
  "language_info": {
   "codemirror_mode": {
    "name": "ipython",
    "version": 3
   },
   "file_extension": ".py",
   "mimetype": "text/x-python",
   "name": "python",
   "nbconvert_exporter": "python",
   "pygments_lexer": "ipython3",
   "version": "3.10.14"
  }
 },
 "nbformat": 4,
 "nbformat_minor": 5
}
