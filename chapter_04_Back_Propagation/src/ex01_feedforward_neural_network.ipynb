{
 "cells": [
  {
   "cell_type": "code",
   "execution_count": 1,
   "id": "0897da76-79a8-4df4-8172-dd02e9566a9f",
   "metadata": {},
   "outputs": [],
   "source": [
    "import scipy.io\n",
    "import torch\n",
    "import torch.nn as nn\n",
    "from torch.utils.data import DataLoader, Dataset\n",
    "from torchvision import transforms\n",
    "from torchvision.transforms import ToTensor\n",
    "from sklearn.model_selection import train_test_split\n",
    "import torch.optim as optim\n",
    "from torch.optim.lr_scheduler import StepLR"
   ]
  },
  {
   "cell_type": "code",
   "execution_count": 2,
   "id": "06dba94b-fb64-44cc-a15b-20be9e490c91",
   "metadata": {},
   "outputs": [],
   "source": [
    "data = scipy.io.loadmat(\"../data/ex4data1.mat\")\n",
    "raw_X = data['X']\n",
    "raw_y = data['y']\n",
    "raw_y[raw_y == 10] = 0\n",
    "\n",
    "x_train, x_test, y_train, y_test = train_test_split(raw_X, raw_y, test_size=0.2, random_state=42)"
   ]
  },
  {
   "cell_type": "code",
   "execution_count": 3,
   "id": "a66fe247-ce31-432d-ba29-0ad5683eb584",
   "metadata": {},
   "outputs": [
    {
     "name": "stdout",
     "output_type": "stream",
     "text": [
      "Feature batch shape: torch.Size([64, 400])\n",
      "Labels batch shape: torch.Size([64])\n"
     ]
    }
   ],
   "source": [
    "class CustomDataset(Dataset):\n",
    "    def __init__(self, features, labels, transform=None):\n",
    "        self.features = torch.tensor(features, dtype=torch.float32)\n",
    "        self.labels = torch.tensor(labels, dtype=torch.int64).squeeze()\n",
    "        self.transform = transform\n",
    "\n",
    "    def __len__(self):\n",
    "        return len(self.features)\n",
    "\n",
    "    def __getitem__(self, idx):\n",
    "        feature = self.features[idx]\n",
    "        label = self.labels[idx]\n",
    "        if self.transform:\n",
    "            feature = self.transform(feature)\n",
    "        return feature, label\n",
    "\n",
    "\n",
    "train_dataset = CustomDataset(x_train, y_train)\n",
    "train_loader = DataLoader(train_dataset, batch_size=64, shuffle=True)\n",
    "test_dataset = CustomDataset(x_test, y_test)\n",
    "test_loader = DataLoader(test_dataset, batch_size=64, shuffle=True)\n",
    "\n",
    "\n",
    "for X, y in train_loader:\n",
    "    print(f\"Feature batch shape: {X.size()}\")\n",
    "    print(f\"Labels batch shape: {y.size()}\")\n",
    "    break"
   ]
  },
  {
   "cell_type": "code",
   "execution_count": 4,
   "id": "4dd38add-32bd-4e57-83c0-ba147371d377",
   "metadata": {},
   "outputs": [
    {
     "name": "stdout",
     "output_type": "stream",
     "text": [
      "Using cuda device\n",
      "NeuralNetwork(\n",
      "  (flatten): Flatten(start_dim=1, end_dim=-1)\n",
      "  (linear_relu_stack): Sequential(\n",
      "    (0): Linear(in_features=400, out_features=512, bias=True)\n",
      "    (1): GELU(approximate='none')\n",
      "    (2): Dropout(p=0.5, inplace=False)\n",
      "    (3): Linear(in_features=512, out_features=256, bias=True)\n",
      "    (4): GELU(approximate='none')\n",
      "    (5): Dropout(p=0.5, inplace=False)\n",
      "    (6): Linear(in_features=256, out_features=10, bias=True)\n",
      "  )\n",
      ")\n"
     ]
    }
   ],
   "source": [
    "device = (\n",
    "    \"cuda\"\n",
    "    if torch.cuda.is_available()\n",
    "    else \"mps\"\n",
    "    if torch.backends.mps.is_available()\n",
    "    else \"cpu\"\n",
    ")\n",
    "print(f\"Using {device} device\")\n",
    "\n",
    "class NeuralNetwork(nn.Module):\n",
    "    def __init__(self):\n",
    "        super().__init__()\n",
    "        self.flatten = nn.Flatten()\n",
    "        self.linear_relu_stack = nn.Sequential(\n",
    "            nn.Linear(20*20, 512),\n",
    "            nn.GELU(),\n",
    "            nn.Dropout(0.5),\n",
    "            nn.Linear(512, 256),\n",
    "            nn.GELU(),\n",
    "            nn.Dropout(0.5),\n",
    "            nn.Linear(256, 10)\n",
    "        )\n",
    "\n",
    "        # 使用 Xavier 初始化权重\n",
    "        for layer in self.linear_relu_stack:\n",
    "            if isinstance(layer, nn.Linear):\n",
    "                nn.init.xavier_normal_(layer.weight, gain=1.414)\n",
    "                nn.init.zeros_(layer.bias)\n",
    "\n",
    "    def forward(self, x):\n",
    "        x = self.flatten(x)\n",
    "        logits = self.linear_relu_stack(x)\n",
    "        return logits\n",
    "\n",
    "\n",
    "model = NeuralNetwork().to(device)\n",
    "print(model)"
   ]
  },
  {
   "cell_type": "code",
   "execution_count": 5,
   "id": "356cf58a-b9b5-4dcc-ad9b-595f1926cce3",
   "metadata": {},
   "outputs": [],
   "source": [
    "loss_fn = nn.CrossEntropyLoss()\n",
    "optimizer = torch.optim.SGD(model.parameters(), lr=1e-3)\n",
    "scheduler = StepLR(optimizer, step_size=10, gamma=0.9)"
   ]
  },
  {
   "cell_type": "code",
   "execution_count": 6,
   "id": "ee28a865-c71d-430c-a697-8389f6030d78",
   "metadata": {},
   "outputs": [
    {
     "name": "stdout",
     "output_type": "stream",
     "text": [
      "Epoch [1/10], Step [20/63], Loss: 1.1177\n",
      "Epoch [1/10], Step [40/63], Loss: 0.6973\n",
      "Epoch [1/10], Step [60/63], Loss: 0.5578\n",
      "Epoch [2/10], Step [20/63], Loss: 0.5914\n",
      "Epoch [2/10], Step [40/63], Loss: 0.2852\n",
      "Epoch [2/10], Step [60/63], Loss: 0.3296\n",
      "Epoch [3/10], Step [20/63], Loss: 0.3275\n",
      "Epoch [3/10], Step [40/63], Loss: 0.4685\n",
      "Epoch [3/10], Step [60/63], Loss: 0.5012\n",
      "Epoch [4/10], Step [20/63], Loss: 0.3643\n",
      "Epoch [4/10], Step [40/63], Loss: 0.2039\n",
      "Epoch [4/10], Step [60/63], Loss: 0.2466\n",
      "Epoch [5/10], Step [20/63], Loss: 0.1841\n",
      "Epoch [5/10], Step [40/63], Loss: 0.3512\n",
      "Epoch [5/10], Step [60/63], Loss: 0.0971\n",
      "Epoch [6/10], Step [20/63], Loss: 0.1933\n",
      "Epoch [6/10], Step [40/63], Loss: 0.0992\n",
      "Epoch [6/10], Step [60/63], Loss: 0.2668\n",
      "Epoch [7/10], Step [20/63], Loss: 0.1363\n",
      "Epoch [7/10], Step [40/63], Loss: 0.1311\n",
      "Epoch [7/10], Step [60/63], Loss: 0.2324\n",
      "Epoch [8/10], Step [20/63], Loss: 0.1674\n",
      "Epoch [8/10], Step [40/63], Loss: 0.2333\n",
      "Epoch [8/10], Step [60/63], Loss: 0.2096\n",
      "Epoch [9/10], Step [20/63], Loss: 0.1360\n",
      "Epoch [9/10], Step [40/63], Loss: 0.1363\n",
      "Epoch [9/10], Step [60/63], Loss: 0.1587\n",
      "Epoch [10/10], Step [20/63], Loss: 0.0973\n",
      "Epoch [10/10], Step [40/63], Loss: 0.0760\n",
      "Epoch [10/10], Step [60/63], Loss: 0.2342\n"
     ]
    }
   ],
   "source": [
    "criterion = nn.CrossEntropyLoss()\n",
    "optimizer = optim.Adam(model.parameters(), lr=0.001)\n",
    "\n",
    "num_epochs = 10\n",
    "for epoch in range(num_epochs):\n",
    "    model.train()\n",
    "    for batch_index, (inputs, labels) in enumerate(train_loader):\n",
    "        inputs, labels = inputs.to(device), labels.to(device)\n",
    "\n",
    "        inputs = inputs.view(-1, 1, 20, 20)\n",
    "        outputs = model(inputs)\n",
    "        loss = criterion(outputs, labels)\n",
    "\n",
    "        optimizer.zero_grad()\n",
    "        loss.backward()\n",
    "        optimizer.step()\n",
    "\n",
    "        if (batch_index + 1) % 20 == 0:\n",
    "            print(f'Epoch [{epoch+1}/{num_epochs}], Step [{batch_index+1}/{len(train_loader)}], Loss: {loss.item():.4f}')"
   ]
  },
  {
   "cell_type": "code",
   "execution_count": 7,
   "id": "5dd35edf-0cb1-4337-a265-1888e70abb7c",
   "metadata": {},
   "outputs": [
    {
     "name": "stdout",
     "output_type": "stream",
     "text": [
      "Test Error: \n",
      "  Accuracy: 94.6%, Avg loss: 0.218327 \n",
      "\n"
     ]
    }
   ],
   "source": [
    "model.eval()\n",
    "test_loss, correct = 0, 0\n",
    "size = len(test_loader.dataset)\n",
    "num_batches = len(test_loader)\n",
    "with torch.no_grad():\n",
    "    for X, y in test_loader:\n",
    "        X, y = X.to(device), y.to(device)\n",
    "        X = X.view(-1, 1, 20, 20)\n",
    "        pred = model(X)\n",
    "        test_loss += criterion(pred, y).item()\n",
    "        correct += (pred.argmax(1) == y).type(torch.float).sum().item()\n",
    "    test_loss /= num_batches\n",
    "    correct /= size\n",
    "    print(f\"Test Error: \\n  Accuracy: {(100*correct):>0.1f}%, Avg loss: {test_loss:>8f} \\n\")"
   ]
  }
 ],
 "metadata": {
  "kernelspec": {
   "display_name": "llama_factory",
   "language": "python",
   "name": "llama_factory"
  },
  "language_info": {
   "codemirror_mode": {
    "name": "ipython",
    "version": 3
   },
   "file_extension": ".py",
   "mimetype": "text/x-python",
   "name": "python",
   "nbconvert_exporter": "python",
   "pygments_lexer": "ipython3",
   "version": "3.10.14"
  }
 },
 "nbformat": 4,
 "nbformat_minor": 5
}
