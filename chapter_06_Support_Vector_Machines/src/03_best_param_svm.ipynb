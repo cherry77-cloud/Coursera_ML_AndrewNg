{
 "cells": [
  {
   "cell_type": "code",
   "execution_count": 1,
   "id": "b8826b94-3807-4790-a3d6-c47bd7422b0a",
   "metadata": {},
   "outputs": [],
   "source": [
    "from sklearn.svm import SVC\n",
    "import numpy as np\n",
    "from scipy.io import loadmat"
   ]
  },
  {
   "cell_type": "code",
   "execution_count": 2,
   "id": "0b9d41e0-22a7-4719-ba52-474c7b448dc5",
   "metadata": {},
   "outputs": [
    {
     "name": "stdout",
     "output_type": "stream",
     "text": [
      "0.965 {'C': 0.3, 'gamma': 100, 'kernel': 'rbf'}\n"
     ]
    }
   ],
   "source": [
    "raw_data = loadmat('../data/ex6data3.mat')\n",
    "\n",
    "X = raw_data['X']\n",
    "Xval = raw_data['Xval']\n",
    "y = raw_data['y'].ravel()\n",
    "yval = raw_data['yval'].ravel()\n",
    "\n",
    "C_values = [0.01, 0.03, 0.1, 0.3, 1, 3, 10, 30, 100]\n",
    "gamma_values = [0.01, 0.03, 0.1, 0.3, 1, 3, 10, 30, 100]\n",
    "kernel_types = ['linear', 'poly', 'rbf', 'sigmoid']\n",
    "\n",
    "best_score = 0\n",
    "best_params = {'C': None, 'gamma': None, 'kernel': None}\n",
    "\n",
    "for kernel in kernel_types:\n",
    "    for C in C_values:\n",
    "        for gamma in gamma_values:\n",
    "            # 对于线性核，gamma参数不会被用到\n",
    "            if kernel == 'linear':\n",
    "                svc = SVC(C=C, kernel=kernel)\n",
    "            else:\n",
    "                svc = SVC(C=C, gamma=gamma, kernel=kernel)\n",
    "                \n",
    "            svc.fit(X, y)\n",
    "            score = svc.score(Xval, yval)\n",
    "            \n",
    "            if score > best_score:\n",
    "                best_score = score\n",
    "                best_params['C'] = C\n",
    "                best_params['gamma'] = gamma\n",
    "                best_params['kernel'] = kernel\n",
    "\n",
    "print(best_score, best_params)"
   ]
  }
 ],
 "metadata": {
  "kernelspec": {
   "display_name": "llama_factory",
   "language": "python",
   "name": "llama_factory"
  },
  "language_info": {
   "codemirror_mode": {
    "name": "ipython",
    "version": 3
   },
   "file_extension": ".py",
   "mimetype": "text/x-python",
   "name": "python",
   "nbconvert_exporter": "python",
   "pygments_lexer": "ipython3",
   "version": "3.10.14"
  }
 },
 "nbformat": 4,
 "nbformat_minor": 5
}
