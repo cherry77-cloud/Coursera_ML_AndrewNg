{
 "cells": [
  {
   "cell_type": "markdown",
   "id": "c6e354bd-53f4-4ef8-83c1-ffd92049501b",
   "metadata": {},
   "source": [
    "### **1. 加载数据**"
   ]
  },
  {
   "cell_type": "code",
   "execution_count": 1,
   "id": "ef0c9d86-07a6-40c1-afe3-0d3734513e77",
   "metadata": {},
   "outputs": [],
   "source": [
    "import numpy as np\n",
    "from scipy.io import loadmat\n",
    "import matplotlib.pyplot as plt\n",
    "from scipy.optimize import minimize\n",
    "import pandas as pd"
   ]
  },
  {
   "cell_type": "code",
   "execution_count": 2,
   "id": "3fc385ee-7a84-4729-a67d-3334735163f6",
   "metadata": {},
   "outputs": [
    {
     "data": {
      "text/plain": [
       "dict_keys(['__header__', '__version__', '__globals__', 'Y', 'R'])"
      ]
     },
     "execution_count": 2,
     "metadata": {},
     "output_type": "execute_result"
    }
   ],
   "source": [
    "data = loadmat(\"../data/ex10_movies.mat\")\n",
    "data.keys()"
   ]
  },
  {
   "cell_type": "code",
   "execution_count": 3,
   "id": "f76258f4-246c-47d8-9e65-d9d37400db85",
   "metadata": {},
   "outputs": [
    {
     "name": "stdout",
     "output_type": "stream",
     "text": [
      "Y_shape: (1682, 943), R_shape: (1682, 943)\n"
     ]
    }
   ],
   "source": [
    "Y, R = data['Y'], data['R']\n",
    "print(f\"Y_shape: {Y.shape}, R_shape: {R.shape}\")"
   ]
  },
  {
   "cell_type": "code",
   "execution_count": 4,
   "id": "3da9694a-b4ee-4042-ab55-66d717c032c7",
   "metadata": {},
   "outputs": [
    {
     "data": {
      "text/plain": [
       "dict_keys(['__header__', '__version__', '__globals__', 'X', 'Theta', 'num_users', 'num_movies', 'num_features'])"
      ]
     },
     "execution_count": 4,
     "metadata": {},
     "output_type": "execute_result"
    }
   ],
   "source": [
    "param_mat = loadmat(\"../data/ex10_movieParams.mat\")\n",
    "param_mat.keys()"
   ]
  },
  {
   "cell_type": "code",
   "execution_count": 5,
   "id": "352768ab-069c-4748-96b1-d5b5088031d3",
   "metadata": {},
   "outputs": [],
   "source": [
    "X, Theta = param_mat['X'], param_mat['Theta']"
   ]
  },
  {
   "cell_type": "code",
   "execution_count": 6,
   "id": "ea2df29d-17c4-48f9-9b9a-7bf6235172ef",
   "metadata": {},
   "outputs": [],
   "source": [
    "num_users, num_movies, num_features = param_mat['num_users'], param_mat['num_movies'], param_mat['num_features']\n",
    "num_users, num_movies, num_features = num_users[0][0], num_movies[0][0], num_features[0][0]"
   ]
  },
  {
   "cell_type": "code",
   "execution_count": 7,
   "id": "bd4fc1be-8b09-43fc-930c-3f83520e1eeb",
   "metadata": {},
   "outputs": [
    {
     "name": "stdout",
     "output_type": "stream",
     "text": [
      "X_shape: (1682, 10), Theta_shape: (943, 10)\n",
      "num_movies: 1682, num_users: 943, num_features: 10\n"
     ]
    }
   ],
   "source": [
    "print(f\"X_shape: {X.shape}, Theta_shape: {Theta.shape}\")\n",
    "print(f\"num_movies: {num_movies}, num_users: {num_users}, num_features: {num_features}\")"
   ]
  },
  {
   "cell_type": "markdown",
   "id": "c2d5a390-1aac-4946-afaf-231545285edc",
   "metadata": {},
   "source": [
    "### **2. 扁平化参数** "
   ]
  },
  {
   "cell_type": "code",
   "execution_count": 8,
   "id": "23b83d6c-2495-493f-b64a-ce4c14920195",
   "metadata": {},
   "outputs": [],
   "source": [
    "def flatten_params(X, Theta):\n",
    "    \"\"\" Flatten X and Theta into a single array \"\"\"\n",
    "    return np.concatenate([X.ravel(), Theta.ravel()])\n",
    "\n",
    "def unflatten_params(flattened_XTheta, num_movies, num_users, num_features):\n",
    "    \"\"\" Extract X and Theta from a flattened array \"\"\"\n",
    "    first_X = num_movies * num_features\n",
    "    X = flattened_XTheta[:first_X].reshape(num_movies, num_features)\n",
    "    Theta = flattened_XTheta[first_X:].reshape(num_users, num_features)\n",
    "    return X, Theta"
   ]
  },
  {
   "cell_type": "markdown",
   "id": "467480e2-3df1-43ca-854c-a90e9bf12c6e",
   "metadata": {},
   "source": [
    "### **3. 协同过滤算法**"
   ]
  },
  {
   "cell_type": "code",
   "execution_count": 9,
   "id": "56b3b9e5-1376-441b-a449-4c8ad270ef3f",
   "metadata": {},
   "outputs": [],
   "source": [
    "def compute_cost(params, num_movies, num_users, num_features, Y, R, lambda_reg=0):\n",
    "    X, Theta = unflatten_params(params, num_movies, num_users, num_features)\n",
    "    prediction_errors = (X @ Theta.T - Y) * R\n",
    "    cost = 0.5 * np.sum(prediction_errors**2) + (lambda_reg/2.) * (np.sum(Theta**2) + np.sum(X**2))\n",
    "    return cost"
   ]
  },
  {
   "cell_type": "code",
   "execution_count": 10,
   "id": "1196b20e-38a6-423b-b07e-afb0d5fd080e",
   "metadata": {},
   "outputs": [
    {
     "name": "stdout",
     "output_type": "stream",
     "text": [
      "27918.64012454421\n"
     ]
    }
   ],
   "source": [
    "params = flatten_params(X, Theta)\n",
    "print(compute_cost(params, num_movies, num_users, num_features, Y, R, lambda_reg=0))"
   ]
  },
  {
   "cell_type": "code",
   "execution_count": 11,
   "id": "404dda07-798e-46b0-9bbb-01206098b30b",
   "metadata": {},
   "outputs": [
    {
     "name": "stdout",
     "output_type": "stream",
     "text": [
      "26250\n"
     ]
    }
   ],
   "source": [
    "def compute_gradient(params, num_movies, num_users, num_features, Y, R, lambda_reg=0):\n",
    "    X, Theta = unflatten_params(params, num_movies, num_users, num_features)\n",
    "    prediction_errors = (X @ Theta.T - Y) * R\n",
    "    grad_X = prediction_errors @ Theta + lambda_reg * X\n",
    "    grad_Theta = prediction_errors.T @ X + lambda_reg * Theta\n",
    "    return flatten_params(grad_X, grad_Theta)\n",
    "print(len(compute_gradient(params, num_movies, num_users, num_features, Y, R)))"
   ]
  },
  {
   "cell_type": "code",
   "execution_count": 12,
   "id": "c1bcf98b-6893-4645-907c-f6c47c7d05d0",
   "metadata": {},
   "outputs": [],
   "source": [
    "def collaborative_filtering(Y, R, num_features, initial_X, initial_Theta, lambda_reg=0):\n",
    "    num_movies, num_users = Y.shape\n",
    "    initial_params = flatten_params(initial_X, initial_Theta)\n",
    "\n",
    "    def callback_func(params):\n",
    "        cost = compute_cost(params, num_movies, num_users, num_features, Y, R, lambda_reg)\n",
    "        print(f\"Current cost: {cost:.4f}\")\n",
    "\n",
    "    result = minimize(\n",
    "        fun=lambda params: compute_cost(params, num_movies, num_users, num_features, Y, R, lambda_reg),\n",
    "        jac=lambda params: compute_gradient(params, num_movies, num_users, num_features, Y, R, lambda_reg),\n",
    "        x0=initial_params,\n",
    "        method='TNC',\n",
    "        callback=callback_func\n",
    "    )\n",
    "\n",
    "    X_final, Theta_final = unflatten_params(result.x, num_movies, num_users, num_features)\n",
    "    return X_final, Theta_final"
   ]
  },
  {
   "cell_type": "code",
   "execution_count": 13,
   "id": "d1d7bd27-6d17-405f-8949-3d3dc488ca89",
   "metadata": {},
   "outputs": [
    {
     "name": "stdout",
     "output_type": "stream",
     "text": [
      "Current cost: 32034.0495\n",
      "Current cost: 31197.4967\n",
      "Current cost: 30411.7811\n",
      "Current cost: 30043.1585\n",
      "Current cost: 29905.1804\n",
      "Current cost: 29828.9493\n",
      "Current cost: 29793.1699\n",
      "Current cost: 29752.0114\n",
      "Current cost: 29742.0871\n",
      "Current cost: 29716.3399\n",
      "Current cost: 29714.4318\n",
      "Current cost: 29692.6849\n",
      "Current cost: 29673.6206\n",
      "Current cost: 29657.8697\n",
      "Current cost: 29645.7841\n",
      "Current cost: 29635.9516\n",
      "Current cost: 29630.8295\n",
      "Current cost: 29628.5156\n",
      "Current cost: 29621.5419\n",
      "Current cost: 29619.7662\n",
      "Current cost: 29615.1756\n",
      "Current cost: 29612.0605\n",
      "Current cost: 29608.3777\n",
      "Current cost: 29607.1438\n",
      "Current cost: 29606.0043\n",
      "Current cost: 29605.5690\n",
      "Current cost: 29605.0898\n",
      "Current cost: 29604.2683\n",
      "Current cost: 29603.5302\n",
      "Current cost: 29603.2532\n",
      "Current cost: 29602.9015\n",
      "Current cost: 29602.7603\n",
      "Current cost: 29602.6438\n",
      "Current cost: 29602.4940\n",
      "Current cost: 29602.4590\n",
      "Current cost: 29602.3824\n",
      "Current cost: 29602.2882\n",
      "Current cost: 29602.2322\n",
      "Current cost: 29602.1341\n",
      "Current cost: 29602.1197\n",
      "Current cost: 29602.0965\n",
      "Current cost: 29602.0725\n",
      "Current cost: 29602.0555\n",
      "Current cost: 29602.0432\n",
      "Current cost: 29602.0359\n",
      "Current cost: 29602.0324\n",
      "Current cost: 29602.0297\n",
      "Current cost: 29602.0294\n",
      "Current cost: 29602.0290\n",
      "Current cost: 29602.0288\n",
      "Current cost: 29602.0287\n",
      "Current cost: 29602.0287\n",
      "Current cost: 29602.0287\n",
      "Current cost: 29602.0287\n",
      "Current cost: 29602.0287\n",
      "Current cost: 29602.0287\n",
      "Current cost: 29602.0287\n",
      "Current cost: 29602.0287\n",
      "Current cost: 29602.0287\n",
      "Current cost: 29602.0287\n",
      "Current cost: 29602.0287\n",
      "Current cost: 29602.0287\n",
      "Current cost: 29602.0287\n",
      "Current cost: 29602.0287\n",
      "Optimized X: [[ 1.03329792 -0.70177809  1.0240288  ...  0.98975287 -0.48761842\n",
      "   0.07367663]\n",
      " [ 0.67099677 -0.15893001  0.75141179 ...  0.5314527  -0.64157507\n",
      "  -0.54498214]\n",
      " [ 0.40763589 -0.11896192  0.02208729 ...  0.99330382 -0.41370979\n",
      "  -1.53193749]\n",
      " ...\n",
      " [ 0.19871321 -0.13305559  0.16981763 ...  0.21254846 -0.30207103\n",
      "   0.14227362]\n",
      " [ 0.30250016 -0.26520224  0.44661944 ...  0.4358783  -0.43110262\n",
      "   0.06040112]\n",
      " [ 0.20598259 -0.34502461  0.18626254 ...  0.69243012 -0.33097005\n",
      "  -0.04973174]]\n",
      "Optimized Theta: [[ 0.19388146 -1.45460756  0.46511403 ...  0.84797768 -1.18704424\n",
      "  -0.03883369]\n",
      " [ 0.36442391 -0.5218557   0.54079308 ...  1.27863204 -1.12366392\n",
      "  -0.31344358]\n",
      " [-0.58901965 -0.42720366  1.10822796 ...  1.61249678 -0.32743933\n",
      "  -0.3057559 ]\n",
      " ...\n",
      " [ 0.9790865  -0.53321642  0.80140878 ...  0.8915421  -0.68848424\n",
      "   0.31522077]\n",
      " [ 1.10576983 -0.41541867  0.28624363 ...  1.15274464 -0.68575919\n",
      "  -0.8739751 ]\n",
      " [ 0.49751044  0.5864537   1.48542367 ...  0.63931818 -1.68890124\n",
      "  -0.5915969 ]]\n"
     ]
    }
   ],
   "source": [
    "Y_norm = Y - Y.mean()\n",
    "X_optimized, Theta_optimized = collaborative_filtering(Y_norm, R, num_features, X, Theta, lambda_reg=1)\n",
    "\n",
    "print(\"Optimized X:\", X_optimized)\n",
    "print(\"Optimized Theta:\", Theta_optimized)"
   ]
  },
  {
   "cell_type": "markdown",
   "id": "22711723-085e-4f10-abf3-3747513b290b",
   "metadata": {},
   "source": [
    "### **4. 推荐电影**"
   ]
  },
  {
   "cell_type": "code",
   "execution_count": 14,
   "id": "d9ed09b1-6e9c-48af-a8da-b2192c1989de",
   "metadata": {},
   "outputs": [],
   "source": [
    "def predict_ratings(X, Theta):\n",
    "    \"\"\"Predict ratings by computing the dot product of X and Theta.T\"\"\"\n",
    "    return X @ Theta.T"
   ]
  },
  {
   "cell_type": "code",
   "execution_count": 15,
   "id": "b4c32eba-f5d2-4ea2-a200-8809c500ebae",
   "metadata": {},
   "outputs": [],
   "source": [
    "def load_movie_list(filepath):\n",
    "    \"\"\"Load movie list from a text file.\"\"\"\n",
    "    movie_list = []\n",
    "    with open(filepath, 'r', encoding='Latin-1') as file:\n",
    "        for line in file:\n",
    "            parts = line.strip().split(' ')\n",
    "            movie_id = int(parts[0])\n",
    "            title = ' '.join(parts[1:])  # Join the rest which is the movie title\n",
    "            movie_list.append((movie_id, title))\n",
    "    movie_df = pd.DataFrame(movie_list, columns=['movie_id', 'title'])\n",
    "    return movie_df"
   ]
  },
  {
   "cell_type": "code",
   "execution_count": 16,
   "id": "6535b32c-7e1e-4f0a-9a57-ff872f5defae",
   "metadata": {},
   "outputs": [],
   "source": [
    "def recommend_movies(predicted_ratings, movie_list, num_recommendations=5):\n",
    "    \"\"\"Recommend movies for each user based on predicted ratings.\n",
    "    \n",
    "    Args:\n",
    "        predicted_ratings (np.array): The matrix of predicted ratings.\n",
    "        movie_list (pd.DataFrame): The DataFrame of movies with 'movie_id' and 'title'.\n",
    "        num_recommendations (int): The number of top recommendations to return for each user.\n",
    "\n",
    "    Returns:\n",
    "        dict: A dictionary containing recommended movie ids, titles, and predicted ratings.\n",
    "    \"\"\"\n",
    "    movie_recommendations = {}\n",
    "    for user_id in range(predicted_ratings.shape[1]):\n",
    "        user_ratings = predicted_ratings[:, user_id]\n",
    "        top_movie_indices = user_ratings.argsort()[::-1][:num_recommendations]\n",
    "        top_movie_ids = movie_list.iloc[top_movie_indices]['movie_id'].values\n",
    "        top_movie_titles = movie_list.iloc[top_movie_indices]['title'].values\n",
    "        top_movie_ratings = user_ratings[top_movie_indices]\n",
    "        recommendations = pd.DataFrame({\n",
    "            'movie_id': top_movie_ids,\n",
    "            'title': top_movie_titles,\n",
    "            'predicted_rating': top_movie_ratings\n",
    "        })\n",
    "        movie_recommendations[user_id] = recommendations\n",
    "    return movie_recommendations"
   ]
  },
  {
   "cell_type": "code",
   "execution_count": 17,
   "id": "bed61786-5aff-4bf8-bff8-e33b035eb85a",
   "metadata": {},
   "outputs": [
    {
     "name": "stdout",
     "output_type": "stream",
     "text": [
      "Recommended movies for User 1:\n",
      "   movie_id                       title  predicted_rating\n",
      "0       902    Big Lebowski, The (1998)          4.787682\n",
      "1       613       My Man Godfrey (1936)          4.765411\n",
      "2       347          Wag the Dog (1997)          4.761938\n",
      "3       709    Strictly Ballroom (1992)          4.584831\n",
      "4       169  Wrong Trousers, The (1993)          4.507411\n"
     ]
    }
   ],
   "source": [
    "movie_file_path = \"../data/movie_ids.txt\"\n",
    "movie_list = load_movie_list(movie_file_path)\n",
    "\n",
    "# 预测评分\n",
    "predicted_ratings = predict_ratings(X_optimized, Theta_optimized)\n",
    "\n",
    "# 为每个用户推荐评分最高的电影\n",
    "user_recommendations = recommend_movies(predicted_ratings, movie_list)\n",
    "\n",
    "# 输出第一个用户的推荐电影\n",
    "print(\"Recommended movies for User 1:\")\n",
    "print(user_recommendations[10])"
   ]
  }
 ],
 "metadata": {
  "kernelspec": {
   "display_name": "llama_factory",
   "language": "python",
   "name": "llama_factory"
  },
  "language_info": {
   "codemirror_mode": {
    "name": "ipython",
    "version": 3
   },
   "file_extension": ".py",
   "mimetype": "text/x-python",
   "name": "python",
   "nbconvert_exporter": "python",
   "pygments_lexer": "ipython3",
   "version": "3.10.14"
  }
 },
 "nbformat": 4,
 "nbformat_minor": 5
}
