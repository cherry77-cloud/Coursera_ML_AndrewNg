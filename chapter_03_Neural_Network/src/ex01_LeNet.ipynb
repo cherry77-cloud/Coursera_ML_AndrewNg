{
 "cells": [
  {
   "cell_type": "code",
   "execution_count": 1,
   "id": "0685ea74-979b-4b00-a8d8-898909d07e23",
   "metadata": {},
   "outputs": [],
   "source": [
    "import scipy.io\n",
    "import torch\n",
    "import torch.nn as nn\n",
    "import torch.nn.functional as F\n",
    "from torch.utils.data import DataLoader, TensorDataset\n",
    "from sklearn.model_selection import train_test_split\n",
    "from torch.optim.lr_scheduler import StepLR"
   ]
  },
  {
   "cell_type": "code",
   "execution_count": 2,
   "id": "3f5f0c97-8eab-4600-be1c-f6bfee496390",
   "metadata": {},
   "outputs": [],
   "source": [
    "data = scipy.io.loadmat(\"../data/ex3data1.mat\")\n",
    "raw_X = data['X']\n",
    "raw_y = data['y']\n",
    "raw_y[raw_y == 10] = 0"
   ]
  },
  {
   "cell_type": "code",
   "execution_count": 3,
   "id": "9e5c4b95-e1c0-44c6-a186-8325c6e3c946",
   "metadata": {},
   "outputs": [
    {
     "name": "stdout",
     "output_type": "stream",
     "text": [
      "torch.Size([64, 400])\n",
      "torch.Size([64]) torch.int64\n"
     ]
    }
   ],
   "source": [
    "x_train, x_test, y_train, y_test = train_test_split(raw_X, raw_y, test_size=0.2, random_state=42)\n",
    "\n",
    "x_train_tensor = torch.tensor(x_train, dtype=torch.float32)\n",
    "y_train_tensor = torch.tensor(y_train, dtype=torch.int64).flatten()\n",
    "x_test_tensor = torch.tensor(x_test, dtype=torch.float32)\n",
    "y_test_tensor = torch.tensor(y_test, dtype=torch.int64).flatten()\n",
    "\n",
    "train_dataset = TensorDataset(x_train_tensor, y_train_tensor)\n",
    "test_dataset = TensorDataset(x_test_tensor, y_test_tensor)\n",
    "\n",
    "batch_size = 64\n",
    "train_dataloader = DataLoader(train_dataset, batch_size=batch_size)\n",
    "test_dataloader = DataLoader(test_dataset, batch_size=batch_size)\n",
    "\n",
    "for X, y in test_dataloader:\n",
    "    print(f\"{X.shape}\")\n",
    "    print(f\"{y.shape} {y.dtype}\")\n",
    "    break"
   ]
  },
  {
   "cell_type": "code",
   "execution_count": 4,
   "id": "623429fe-25cc-4a6a-9c87-cdbbeed040ea",
   "metadata": {},
   "outputs": [
    {
     "name": "stdout",
     "output_type": "stream",
     "text": [
      "Using cuda device\n",
      "LeNet(\n",
      "  (conv1): Conv2d(1, 6, kernel_size=(3, 3), stride=(1, 1))\n",
      "  (conv2): Conv2d(6, 16, kernel_size=(3, 3), stride=(1, 1))\n",
      "  (fc1): Linear(in_features=144, out_features=120, bias=True)\n",
      "  (fc2): Linear(in_features=120, out_features=84, bias=True)\n",
      "  (fc3): Linear(in_features=84, out_features=10, bias=True)\n",
      ")\n"
     ]
    }
   ],
   "source": [
    "device = (\n",
    "    \"cuda\"\n",
    "    if torch.cuda.is_available()\n",
    "    else \"mps\"\n",
    "    if torch.backends.mps.is_available()\n",
    "    else \"cpu\"\n",
    ")\n",
    "print(f\"Using {device} device\")\n",
    "\n",
    "class LeNet(nn.Module):\n",
    "    def __init__(self):\n",
    "        super(LeNet, self).__init__()\n",
    "        # Convolution layers: 1 input channel (black & white), using 3x3 kernels\n",
    "        self.conv1 = nn.Conv2d(1, 6, 3) \n",
    "        self.conv2 = nn.Conv2d(6, 16, 3)\n",
    "        \n",
    "        # Adjust the size of the input to the fully connected layer based on the output of the convolution layers\n",
    "        self.fc1 = nn.Linear(144, 120)\n",
    "        self.fc2 = nn.Linear(120, 84)\n",
    "        self.fc3 = nn.Linear(84, 10)\n",
    "\n",
    "        for m in self.modules():\n",
    "            if isinstance(m, nn.Conv2d):\n",
    "                # Initialize the weights of the convolution layers with Kaiming initialization\n",
    "                nn.init.kaiming_normal_(m.weight, mode='fan_out', nonlinearity='relu')\n",
    "                if m.bias is not None:\n",
    "                    nn.init.constant_(m.bias, 0)\n",
    "            elif isinstance(m, nn.Linear):\n",
    "                # Initialize the weights of the linear layers with Glorot (Xavier) initialization\n",
    "                nn.init.xavier_normal_(m.weight)\n",
    "                nn.init.constant_(m.bias, 0)\n",
    "\n",
    "    def forward(self, x):\n",
    "        x = F.max_pool2d(F.relu(self.conv1(x)), (2, 2))\n",
    "        x = F.max_pool2d(F.relu(self.conv2(x)), 2)\n",
    "        x = x.view(-1, self.num_flat_features(x))\n",
    "        x = F.relu(self.fc1(x))\n",
    "        x = F.relu(self.fc2(x))\n",
    "        x = self.fc3(x)\n",
    "        return x\n",
    "\n",
    "    def num_flat_features(self, x):\n",
    "        size = x.size()[1:]\n",
    "        num_features = 1\n",
    "        for s in size:\n",
    "            num_features *= s\n",
    "        return num_features\n",
    "\n",
    "model = LeNet().to(device)\n",
    "print(model)"
   ]
  },
  {
   "cell_type": "code",
   "execution_count": 5,
   "id": "860bdd4c-8cae-4a16-8d1c-74fe51cca73e",
   "metadata": {},
   "outputs": [],
   "source": [
    "loss_fn = nn.CrossEntropyLoss()\n",
    "optimizer = torch.optim.SGD(model.parameters(), lr=1e-3)\n",
    "scheduler = StepLR(optimizer, step_size=10, gamma=0.9)"
   ]
  },
  {
   "cell_type": "code",
   "execution_count": 6,
   "id": "6da37a55-83be-4cb6-9f8a-b9c27b96b29c",
   "metadata": {},
   "outputs": [],
   "source": [
    "def train(dataloader, model, loss_fn, optimizer):\n",
    "    size = len(dataloader.dataset)\n",
    "    model.train()\n",
    "    for batch, (X, y) in enumerate(dataloader):\n",
    "        X, y = X.to(device), y.to(device)\n",
    "        X = X.view(-1, 1, 20, 20)\n",
    "        \n",
    "        # Compute prediction error\n",
    "        pred = model(X)\n",
    "        loss = loss_fn(pred, y)\n",
    "\n",
    "        # Backpropagation\n",
    "        loss.backward()\n",
    "        optimizer.step()\n",
    "        optimizer.zero_grad()\n",
    "        \n",
    "        # if batch % 30 == 0:\n",
    "        #     loss, current = loss.item(), (batch + 1) * len(X)\n",
    "        #     print(f\"loss: {loss:>7f}  [{current:>5d}/{size:>5d}]\")\n",
    "    scheduler.step()"
   ]
  },
  {
   "cell_type": "code",
   "execution_count": 7,
   "id": "f74d9a84-1a6e-4daf-876f-caffd05eb9bb",
   "metadata": {},
   "outputs": [],
   "source": [
    "def test(dataloader, model, loss_fn):\n",
    "    size = len(dataloader.dataset)\n",
    "    num_batches = len(dataloader)\n",
    "    model.eval()\n",
    "    test_loss, correct = 0, 0\n",
    "    with torch.no_grad():\n",
    "        for X, y in dataloader:\n",
    "            X, y = X.to(device), y.to(device)\n",
    "            X = X.view(-1, 1, 20, 20)\n",
    "            pred = model(X)\n",
    "            test_loss += loss_fn(pred, y).item()\n",
    "            correct += (pred.argmax(1) == y).type(torch.float).sum().item()\n",
    "    test_loss /= num_batches\n",
    "    correct /= size\n",
    "    return f\"Test Error: \\n  Accuracy: {(100*correct):>0.1f}%, Avg loss: {test_loss:>8f} \\n\""
   ]
  },
  {
   "cell_type": "code",
   "execution_count": 8,
   "id": "e60a4b96-e253-4fab-a8d4-350550dc8dbe",
   "metadata": {},
   "outputs": [
    {
     "name": "stdout",
     "output_type": "stream",
     "text": [
      "Epoch 50 \n",
      "-------------------------------\n",
      "Test Error: \n",
      "  Accuracy: 49.7%, Avg loss: 1.967998 \n",
      "\n",
      "Epoch 100 \n",
      "-------------------------------\n",
      "Test Error: \n",
      "  Accuracy: 76.2%, Avg loss: 1.013745 \n",
      "\n",
      "Epoch 150 \n",
      "-------------------------------\n",
      "Test Error: \n",
      "  Accuracy: 80.3%, Avg loss: 0.715260 \n",
      "\n",
      "Epoch 200 \n",
      "-------------------------------\n",
      "Test Error: \n",
      "  Accuracy: 82.6%, Avg loss: 0.628114 \n",
      "\n",
      "Epoch 250 \n",
      "-------------------------------\n",
      "Test Error: \n",
      "  Accuracy: 83.6%, Avg loss: 0.591498 \n",
      "\n",
      "Epoch 300 \n",
      "-------------------------------\n",
      "Test Error: \n",
      "  Accuracy: 84.3%, Avg loss: 0.573110 \n",
      "\n",
      "Done!\n"
     ]
    }
   ],
   "source": [
    "epochs = 300\n",
    "for epoch in range(epochs):\n",
    "    train(train_dataloader, model, loss_fn, optimizer)\n",
    "    str_info = test(test_dataloader, model, loss_fn)\n",
    "    if (epoch + 1) % 50 == 0:\n",
    "        print(f\"Epoch {(epoch + 1)} \\n-------------------------------\")\n",
    "        print(str_info)\n",
    "print(\"Done!\")"
   ]
  },
  {
   "cell_type": "code",
   "execution_count": 9,
   "id": "c3e18131-f61b-4ecb-801e-6554a7740f75",
   "metadata": {},
   "outputs": [
    {
     "name": "stdout",
     "output_type": "stream",
     "text": [
      "Predicted: \"1\", Actual: \"1\"\n"
     ]
    },
    {
     "data": {
      "image/png": "[encoded data removed]",
      "text/plain": [
       "<Figure size 400x400 with 1 Axes>"
      ]
     },
     "metadata": {},
     "output_type": "display_data"
    }
   ],
   "source": [
    "import matplotlib.pyplot as plt\n",
    "\n",
    "model.eval()\n",
    "random_idx = torch.randint(len(x_train_tensor), (1,)).item()\n",
    "\n",
    "x, y = x_train_tensor[random_idx], y_train_tensor[random_idx]\n",
    "\n",
    "with torch.no_grad():\n",
    "    x = x.to(device)\n",
    "    x = x.view(-1, 1, 20, 20)\n",
    "    pred = model(x)\n",
    "    predicted, actual = pred[0].argmax(0), y\n",
    "    print(f'Predicted: \"{predicted}\", Actual: \"{actual}\"')\n",
    "\n",
    "x_image = x.cpu().numpy().squeeze()\n",
    "x_image = x_image.reshape(20, 20)\n",
    "plt.figure(figsize=(4, 4))\n",
    "plt.imshow(x_image.transpose(), cmap='gray')\n",
    "plt.axis('off')\n",
    "plt.show()"
   ]
  }
 ],
 "metadata": {
  "kernelspec": {
   "display_name": "llama_factory",
   "language": "python",
   "name": "llama_factory"
  },
  "language_info": {
   "codemirror_mode": {
    "name": "ipython",
    "version": 3
   },
   "file_extension": ".py",
   "mimetype": "text/x-python",
   "name": "python",
   "nbconvert_exporter": "python",
   "pygments_lexer": "ipython3",
   "version": "3.10.14"
  }
 },
 "nbformat": 4,
 "nbformat_minor": 5
}
