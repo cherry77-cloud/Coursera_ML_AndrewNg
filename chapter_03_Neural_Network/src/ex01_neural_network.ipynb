{
 "cells": [
  {
   "cell_type": "code",
   "execution_count": 1,
   "id": "0c5a395c-3e76-4841-a17d-b7a827205eb4",
   "metadata": {},
   "outputs": [],
   "source": [
    "import pandas as pd\n",
    "import numpy as np\n",
    "import scipy.io"
   ]
  },
  {
   "cell_type": "code",
   "execution_count": 2,
   "id": "0a8568c5-a5f3-47ac-9cde-7ab3ff76ddca",
   "metadata": {},
   "outputs": [],
   "source": [
    "data = scipy.io.loadmat(\"../data/ex3data1.mat\")\n",
    "raw_X = data['X']\n",
    "raw_y = data['y']\n",
    "raw_y[raw_y == 10] = 0\n",
    "raw_X = np.insert(raw_X, raw_X.shape[1], 1, axis=1)"
   ]
  },
  {
   "cell_type": "code",
   "execution_count": 3,
   "id": "274d3eed-2be4-4eba-93ee-d662ccef023c",
   "metadata": {},
   "outputs": [],
   "source": [
    "### scipy_optimize ###"
   ]
  },
  {
   "cell_type": "code",
   "execution_count": 4,
   "id": "4dca8eab-f277-4620-9d38-bc1145f46fff",
   "metadata": {},
   "outputs": [
    {
     "name": "stdout",
     "output_type": "stream",
     "text": [
      "(4000, 401)\n",
      "Test Set Accuracy: 0.903\n"
     ]
    }
   ],
   "source": [
    "from scipy.optimize import minimize\n",
    "from sklearn.model_selection import train_test_split\n",
    "from sklearn.metrics import accuracy_score\n",
    "\n",
    "def logistic_sigmoid(z):\n",
    "    return 1 / (1 + np.exp(-z))\n",
    "\n",
    "def cross_entropy_loss_regularized(theta, X, y, lambda_reg=0.1):\n",
    "    m = len(y)\n",
    "    theta = theta.reshape(-1, 1)\n",
    "    predictions = logistic_sigmoid(np.dot(X, theta))\n",
    "    regularization_term = (lambda_reg / (2 * m)) * np.sum(theta[:-1] ** 2)\n",
    "    loss = -np.mean(y * np.log(predictions) + (1 - y) * np.log(1 - predictions)) + regularization_term\n",
    "    return loss\n",
    "\n",
    "def compute_gradient_regularized(theta, X, y, learning_rate=0.004, lambda_reg=0.1, num_epochs=100):\n",
    "    m = len(y)\n",
    "    n = X.shape[1]\n",
    "    theta = theta.reshape(-1, 1)\n",
    "    predictions = logistic_sigmoid(np.dot(X, theta))\n",
    "    gradients = np.dot(X.transpose(), (predictions - y)) / m\n",
    "    regularization_term = (lambda_reg / m) * np.concatenate((theta[:-1].flatten(), [0]))\n",
    "    regularization_term = regularization_term.reshape((n, -1))\n",
    "    gradients[:-1] += regularization_term[:-1]\n",
    "    return gradients.flatten()\n",
    "\n",
    "def one_vs_all(X, y, num_labels=10):\n",
    "    m, n = X.shape\n",
    "    all_theta = np.zeros((num_labels, n))\n",
    "    \n",
    "    for i in range(num_labels):\n",
    "        initial_theta = np.zeros(n)\n",
    "        binary_y = np.where(y == i, 1, 0)\n",
    "        result = minimize(fun=cross_entropy_loss_regularized, \n",
    "                          x0=initial_theta, \n",
    "                          args=(X, binary_y), \n",
    "                          jac=compute_gradient_regularized, \n",
    "                          method='TNC')\n",
    "        all_theta[i] = result.x\n",
    "    \n",
    "    return all_theta\n",
    "\n",
    "def predict_one_vs_all(all_theta, X):\n",
    "    m = X.shape[0]\n",
    "    predictions = logistic_sigmoid(np.dot(X, all_theta.transpose()))\n",
    "    return np.argmax(predictions, axis=1)\n",
    "\n",
    "\n",
    "X_train, X_test, y_train, y_test = train_test_split(raw_X, raw_y, test_size=0.2, random_state=42)\n",
    "print(X_train.shape)\n",
    "all_theta = one_vs_all(X_train, y_train)\n",
    "\n",
    "preds = predict_one_vs_all(all_theta, X_test)\n",
    "\n",
    "accuracy = accuracy_score(y_test, preds)\n",
    "print(\"Test Set Accuracy:\", accuracy)"
   ]
  }
 ],
 "metadata": {
  "kernelspec": {
   "display_name": "llama_factory",
   "language": "python",
   "name": "llama_factory"
  },
  "language_info": {
   "codemirror_mode": {
    "name": "ipython",
    "version": 3
   },
   "file_extension": ".py",
   "mimetype": "text/x-python",
   "name": "python",
   "nbconvert_exporter": "python",
   "pygments_lexer": "ipython3",
   "version": "3.10.14"
  }
 },
 "nbformat": 4,
 "nbformat_minor": 5
}
