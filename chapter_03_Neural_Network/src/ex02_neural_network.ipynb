{
 "cells": [
  {
   "cell_type": "code",
   "execution_count": 1,
   "id": "3c1aec38-4890-479f-af3a-98400145142d",
   "metadata": {},
   "outputs": [
    {
     "name": "stdout",
     "output_type": "stream",
     "text": [
      "Accuracy: 0.9752\n"
     ]
    }
   ],
   "source": [
    "import scipy.io\n",
    "import numpy as np\n",
    "\n",
    "def load_data():\n",
    "    data = scipy.io.loadmat('../data/ex3data1.mat')\n",
    "    X = data['X']\n",
    "    y = data['y'].flatten()\n",
    "    return X, y\n",
    "\n",
    "def load_weights():\n",
    "    theta = scipy.io.loadmat('../data/ex3weights.mat')\n",
    "    theta1 = theta['Theta1']\n",
    "    theta2 = theta['Theta2']\n",
    "    return theta1, theta2\n",
    "\n",
    "def logistic_sigmoid(z):\n",
    "    return 1 / (1 + np.exp(-z))\n",
    "\n",
    "def add_bias_unit(X):\n",
    "    return np.insert(X, 0, 1, axis=1)\n",
    "\n",
    "def apply_activation(X, theta):\n",
    "    z = np.dot(X, theta.T)\n",
    "    return logistic_sigmoid(z)\n",
    "\n",
    "def predict(X, theta1, theta2):\n",
    "    a1 = add_bias_unit(X)\n",
    "    a2 = apply_activation(a1, theta1)\n",
    "    a2 = add_bias_unit(a2)\n",
    "    a3 = apply_activation(a2, theta2)\n",
    "    return np.argmax(a3, axis=1) + 1\n",
    "\n",
    "def compute_accuracy(y_pred, y):\n",
    "    return np.mean(y_pred == y)\n",
    "\n",
    "# 主程序\n",
    "X, y = load_data()\n",
    "theta1, theta2 = load_weights()\n",
    "y_pred = predict(X, theta1, theta2)\n",
    "accuracy = compute_accuracy(y_pred, y)\n",
    "print(f\"Accuracy: {accuracy:.4f}\")"
   ]
  }
 ],
 "metadata": {
  "kernelspec": {
   "display_name": "llama_factory",
   "language": "python",
   "name": "llama_factory"
  },
  "language_info": {
   "codemirror_mode": {
    "name": "ipython",
    "version": 3
   },
   "file_extension": ".py",
   "mimetype": "text/x-python",
   "name": "python",
   "nbconvert_exporter": "python",
   "pygments_lexer": "ipython3",
   "version": "3.10.14"
  }
 },
 "nbformat": 4,
 "nbformat_minor": 5
}
